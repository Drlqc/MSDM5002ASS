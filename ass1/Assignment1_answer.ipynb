{
 "cells": [
  {
   "cell_type": "markdown",
   "metadata": {
    "deletable": false,
    "editable": false,
    "nbgrader": {
     "cell_type": "markdown",
     "checksum": "e35f28ccc7bdc1ba1610d5797c4bda29",
     "grade": false,
     "grade_id": "prob_1_description",
     "locked": true,
     "schema_version": 3,
     "solution": false,
     "task": false
    }
   },
   "source": [
    "##### Test question (just for you to check your environment is ready and familiar with writing code inside the function)"
   ]
  },
  {
   "cell_type": "markdown",
   "metadata": {
    "deletable": false,
    "editable": false,
    "nbgrader": {
     "cell_type": "markdown",
     "checksum": "5cd149874c01d81adcc0ba68645b0a69",
     "grade": false,
     "grade_id": "cell-a028cbf65cbf2a7c",
     "locked": true,
     "schema_version": 3,
     "solution": false,
     "task": false
    }
   },
   "source": [
    "Write a function that returns a list of numbers, such that  𝑥𝑖=𝑖2 , for  1≤𝑖≤𝑛 . Make sure it handles the case where  𝑛<1  by raising a ValueError."
   ]
  },
  {
   "cell_type": "code",
   "execution_count": 1,
   "metadata": {
    "deletable": false,
    "nbgrader": {
     "cell_type": "code",
     "checksum": "8df9e5927e5791614c485595dcd39c08",
     "grade": false,
     "grade_id": "cell-b4b8af58225a3d15",
     "locked": false,
     "schema_version": 3,
     "solution": true,
     "task": false
    }
   },
   "outputs": [],
   "source": [
    "def squares(n):\n",
    "    \"\"\"Compute the squares of numbers from 1 to n, such that the \n",
    "    ith element of the returned list equals i^2.\n",
    "    \n",
    "    \"\"\"\n",
    "    a=[]\n",
    "    for i in range(1,n+1):\n",
    "        a.append(i**2)\n",
    "    return a\n",
    "        \n",
    "    # YOUR CODE HERE\n",
    "    raise NotImplementedError()"
   ]
  },
  {
   "cell_type": "code",
   "execution_count": 2,
   "metadata": {
    "deletable": false,
    "editable": false,
    "nbgrader": {
     "cell_type": "code",
     "checksum": "43db266c4667bce7a49eeea794e36ed5",
     "grade": true,
     "grade_id": "cell-1c8f4d2067ce3c82",
     "locked": true,
     "points": 0,
     "schema_version": 3,
     "solution": false,
     "task": false
    }
   },
   "outputs": [],
   "source": [
    "\"\"\"Check that squares returns the correct output for several inputs\"\"\"\n",
    "assert squares(1) == [1]\n",
    "assert squares(2) == [1, 4]\n",
    "assert squares(10) == [1, 4, 9, 16, 25, 36, 49, 64, 81, 100]\n",
    "assert squares(11) == [1, 4, 9, 16, 25, 36, 49, 64, 81, 100, 121]"
   ]
  },
  {
   "cell_type": "code",
   "execution_count": 3,
   "metadata": {
    "deletable": false,
    "editable": false,
    "nbgrader": {
     "cell_type": "code",
     "checksum": "5c189961c3caf24a697d06616ef27b02",
     "grade": false,
     "grade_id": "cell-0831d11963b00d1b",
     "locked": true,
     "schema_version": 3,
     "solution": false,
     "task": false
    }
   },
   "outputs": [],
   "source": [
    "###answer###\n",
    "def squares(n):\n",
    "    \"\"\"Compute the squares of numbers from 1 to n, such that the \n",
    "    ith element of the returned list equals i^2.\n",
    "    \n",
    "    \"\"\"\n",
    "    if n < 1:\n",
    "        raise ValueError(\"n must be greater than or equal to 1\")\n",
    "    return [i ** 2 for i in range(1, n + 1)]"
   ]
  },
  {
   "cell_type": "markdown",
   "metadata": {
    "deletable": false,
    "editable": false,
    "nbgrader": {
     "cell_type": "markdown",
     "checksum": "63374108ef9c581440f9f288da69095b",
     "grade": false,
     "grade_id": "cell-4b6f0ff990adf7bf",
     "locked": true,
     "schema_version": 3,
     "solution": false,
     "task": false
    }
   },
   "source": [
    "# 1."
   ]
  },
  {
   "cell_type": "code",
   "execution_count": 8,
   "metadata": {
    "deletable": false,
    "nbgrader": {
     "cell_type": "code",
     "checksum": "f9de6e95edcfbab0ee19bff89e870441",
     "grade": false,
     "grade_id": "cell-cb03e01b962b066b",
     "locked": false,
     "schema_version": 3,
     "solution": true,
     "task": false
    }
   },
   "outputs": [],
   "source": [
    "def Q1():\n",
    "    # YOUR CODE HERE\n",
    "    x=[]\n",
    "    i=0\n",
    "    while 1:\n",
    "        a=input(\"Enter the name of a student (Enter q/Q to stop):\")\n",
    "        if a=='q' or a=='Q':\n",
    "            break\n",
    "        else:\n",
    "            x.append(a)\n",
    "            i+=1\n",
    "    for j in range(i):\n",
    "        print(\"Hello \",x[j],\", welcome to the course 5002.\")\n",
    "    \n",
    "        \n",
    "    return    \n",
    "    raise NotImplementedError()"
   ]
  },
  {
   "cell_type": "code",
   "execution_count": 9,
   "metadata": {},
   "outputs": [
    {
     "name": "stdout",
     "output_type": "stream",
     "text": [
      "Enter the name of a student (Enter q/Q to stop):Liqichao\n",
      "Enter the name of a student (Enter q/Q to stop):Zhang\n",
      "Enter the name of a student (Enter q/Q to stop):Kkkk\n",
      "Enter the name of a student (Enter q/Q to stop):Q\n",
      "Hello  Liqichao , welcome to the course 5002.\n",
      "Hello  Zhang , welcome to the course 5002.\n",
      "Hello  Kkkk , welcome to the course 5002.\n"
     ]
    }
   ],
   "source": [
    "Q1()"
   ]
  },
  {
   "cell_type": "code",
   "execution_count": null,
   "metadata": {
    "deletable": false,
    "editable": false,
    "nbgrader": {
     "cell_type": "code",
     "checksum": "769cb814cdbeb84ae228ff8082d89a75",
     "grade": true,
     "grade_id": "cell-3ff2a4b067a8451a",
     "locked": true,
     "points": 4,
     "schema_version": 3,
     "solution": false,
     "task": false
    }
   },
   "outputs": [],
   "source": []
  },
  {
   "cell_type": "code",
   "execution_count": null,
   "metadata": {
    "deletable": false,
    "editable": false,
    "nbgrader": {
     "cell_type": "code",
     "checksum": "5e726aebf71b277bc2b188cd2beeca58",
     "grade": true,
     "grade_id": "cell-a5d24c3f856a7d82",
     "locked": true,
     "points": 4,
     "schema_version": 3,
     "solution": false,
     "task": false
    }
   },
   "outputs": [],
   "source": []
  },
  {
   "cell_type": "markdown",
   "metadata": {
    "deletable": false,
    "editable": false,
    "nbgrader": {
     "cell_type": "markdown",
     "checksum": "59e38e4889472aa17104d53f575adfed",
     "grade": false,
     "grade_id": "cell-60725b95d4ccfc8e",
     "locked": true,
     "schema_version": 3,
     "solution": false,
     "task": false
    }
   },
   "source": [
    "# 2."
   ]
  },
  {
   "cell_type": "code",
   "execution_count": 11,
   "metadata": {
    "deletable": false,
    "nbgrader": {
     "cell_type": "code",
     "checksum": "6b879e208d222bd61d704a14fb185474",
     "grade": false,
     "grade_id": "cell-8f3bf76a6f5b7386",
     "locked": false,
     "schema_version": 3,
     "solution": true,
     "task": false
    }
   },
   "outputs": [],
   "source": [
    "from random import randint\n",
    "rn=[randint(1,1500) for _ in range (50)]\n",
    "def Q2(rn):\n",
    "    # YOUR CODE HERE\n",
    "    old_rn=rn.copy()\n",
    "    rn.sort()\n",
    "    n=len(rn)\n",
    "    j=0\n",
    "    for i in range(n):\n",
    "        if rn[j]%3!=0:\n",
    "            rn.pop(j)\n",
    "        else:\n",
    "            j+=1\n",
    "    print(\"For list\",old_rn,\", the result is\",rn)\n",
    "    return\n",
    "    raise NotImplementedError()"
   ]
  },
  {
   "cell_type": "code",
   "execution_count": 12,
   "metadata": {},
   "outputs": [
    {
     "name": "stdout",
     "output_type": "stream",
     "text": [
      "For list [1047, 830, 1074, 1066, 737, 440, 304, 918, 1263, 182, 1326, 1132, 948, 174, 965, 1039, 1479, 670, 1280, 843, 823, 593, 1364, 166, 778, 55, 868, 669, 104, 1324, 784, 1216, 1232, 1088, 959, 18, 810, 565, 911, 1171, 575, 104, 1160, 177, 571, 701, 1170, 1012, 343, 1143] , the result is [18, 174, 177, 669, 810, 843, 918, 948, 1047, 1074, 1143, 1170, 1263, 1326, 1479]\n"
     ]
    }
   ],
   "source": [
    "Q2(rn)"
   ]
  },
  {
   "cell_type": "code",
   "execution_count": null,
   "metadata": {
    "deletable": false,
    "editable": false,
    "nbgrader": {
     "cell_type": "code",
     "checksum": "5b59cb70300f3c5c14e3153fc038ba3f",
     "grade": true,
     "grade_id": "cell-a21662173603ccd0",
     "locked": true,
     "points": 8,
     "schema_version": 3,
     "solution": false,
     "task": false
    }
   },
   "outputs": [],
   "source": []
  },
  {
   "cell_type": "markdown",
   "metadata": {
    "deletable": false,
    "editable": false,
    "nbgrader": {
     "cell_type": "markdown",
     "checksum": "a0525451cdbedd0efcf33da4f5940475",
     "grade": false,
     "grade_id": "cell-50cd6fcda98ce5d1",
     "locked": true,
     "schema_version": 3,
     "solution": false,
     "task": false
    }
   },
   "source": [
    "# 3."
   ]
  },
  {
   "cell_type": "code",
   "execution_count": 10,
   "metadata": {
    "deletable": false,
    "nbgrader": {
     "cell_type": "code",
     "checksum": "a361f79ceb94f5dac38f1b91cefd0214",
     "grade": false,
     "grade_id": "cell-1e67a55cc8f3479b",
     "locked": false,
     "schema_version": 3,
     "solution": true,
     "task": false
    }
   },
   "outputs": [],
   "source": [
    "def Q3():\n",
    "    # YOUR CODE HERE\n",
    "    x=int(input(\"Enter a number between 0 and 30:\"))\n",
    "    \n",
    "    while 1:\n",
    "        if x==9:\n",
    "            print(\"You got it!\")\n",
    "            return\n",
    "        if x<0 or x>30:\n",
    "            x=eval(input(\"Number out of range! Try again:\"))\n",
    "        if x>=0 and x<9:\n",
    "            x=eval(input(\"Number is too small, try again:\"))\n",
    "        if x>9 and x<=30:\n",
    "            x=eval(input(\"Number is too large, try again:\"))\n",
    "    print(\"You are stupid! I don't play with you!\")\n",
    "    return\n",
    "    raise NotImplementedError()"
   ]
  },
  {
   "cell_type": "code",
   "execution_count": 11,
   "metadata": {},
   "outputs": [
    {
     "name": "stdout",
     "output_type": "stream",
     "text": [
      "Enter a number between 0 and 30:90\n",
      "Number out of range! Try again:9\n",
      "You got it!\n"
     ]
    }
   ],
   "source": [
    "Q3()"
   ]
  },
  {
   "cell_type": "code",
   "execution_count": null,
   "metadata": {
    "deletable": false,
    "editable": false,
    "nbgrader": {
     "cell_type": "code",
     "checksum": "aeacb9803a398119659178de3a455fab",
     "grade": true,
     "grade_id": "cell-4b1c46ec4b2dcf2b",
     "locked": true,
     "points": 8,
     "schema_version": 3,
     "solution": false,
     "task": false
    }
   },
   "outputs": [],
   "source": []
  },
  {
   "cell_type": "markdown",
   "metadata": {
    "deletable": false,
    "editable": false,
    "nbgrader": {
     "cell_type": "markdown",
     "checksum": "b8cb8083fc8106df6b7a0d89c5556e28",
     "grade": false,
     "grade_id": "cell-9cbbcc6d2bb4c8ff",
     "locked": true,
     "schema_version": 3,
     "solution": false,
     "task": false
    }
   },
   "source": [
    "# 4."
   ]
  },
  {
   "cell_type": "code",
   "execution_count": 12,
   "metadata": {
    "deletable": false,
    "nbgrader": {
     "cell_type": "code",
     "checksum": "6dbe3bb1144494d2e9bac304901be13d",
     "grade": false,
     "grade_id": "cell-f0a54259e3a0bf46",
     "locked": false,
     "schema_version": 3,
     "solution": true,
     "task": false
    }
   },
   "outputs": [],
   "source": [
    "def Q4():\n",
    "    # YOUR CODE HERE\n",
    "    x=input(\"Hi, welcome to our sandwich shop. Please select a sandwich.\\n'c' for Cheese or 'v' for Veggie Special:\")\n",
    "    x=x.upper()\n",
    "    if x=='V':\n",
    "        print(\"Here is your Veggie Special sandwich~\")\n",
    "        return\n",
    "    if x=='C':\n",
    "        y=input(\"'c' for Cheddar or 'm' for Manchego:\")\n",
    "        y.upper()\n",
    "        if y=='C':\n",
    "            print(\"Here is your Cheddar Cheese sandwich~\")\n",
    "            return\n",
    "        if y=='M':\n",
    "            print(\"Here is your Manchego Cheese sandwich~\")\n",
    "            return\n",
    "    raise NotImplementedError()"
   ]
  },
  {
   "cell_type": "code",
   "execution_count": 13,
   "metadata": {},
   "outputs": [
    {
     "name": "stdout",
     "output_type": "stream",
     "text": [
      "Hi, welcome to our sandwich shop. Please select a sandwich.\n",
      "'c' for Cheese or 'v' for Veggie Special:C\n",
      "'c' for Cheddar or 'm' for Manchego:C\n",
      "Here is your Cheddar Cheese sandwich~\n"
     ]
    }
   ],
   "source": [
    "Q4()"
   ]
  },
  {
   "cell_type": "code",
   "execution_count": null,
   "metadata": {
    "deletable": false,
    "editable": false,
    "nbgrader": {
     "cell_type": "code",
     "checksum": "3dedaf099b0afe9f01d7d08c223582a9",
     "grade": true,
     "grade_id": "cell-f89e6dc23ece3507",
     "locked": true,
     "points": 4,
     "schema_version": 3,
     "solution": false,
     "task": false
    }
   },
   "outputs": [],
   "source": []
  },
  {
   "cell_type": "code",
   "execution_count": null,
   "metadata": {
    "deletable": false,
    "editable": false,
    "nbgrader": {
     "cell_type": "code",
     "checksum": "f697484b2dfadad3ba6318091d2e09c3",
     "grade": true,
     "grade_id": "cell-227dd601a021567a",
     "locked": true,
     "points": 4,
     "schema_version": 3,
     "solution": false,
     "task": false
    }
   },
   "outputs": [],
   "source": []
  },
  {
   "cell_type": "markdown",
   "metadata": {
    "deletable": false,
    "editable": false,
    "nbgrader": {
     "cell_type": "markdown",
     "checksum": "5533c64e400695f2bc64d0526794576f",
     "grade": false,
     "grade_id": "cell-cb97121078266d7a",
     "locked": true,
     "schema_version": 3,
     "solution": false,
     "task": false
    }
   },
   "source": [
    "# 5."
   ]
  },
  {
   "cell_type": "code",
   "execution_count": 1,
   "metadata": {
    "deletable": false,
    "nbgrader": {
     "cell_type": "code",
     "checksum": "c18e2ef41827118ce6acf69e9407a77c",
     "grade": false,
     "grade_id": "cell-62813295633b87e9",
     "locked": false,
     "schema_version": 3,
     "solution": true,
     "task": false
    }
   },
   "outputs": [],
   "source": [
    "def Q5():\n",
    "    # YOUR CODE HERE\n",
    "    while 1:\n",
    "        x=input(\"Enter the weather(sunny, rainy, snowy,etc.):\")\n",
    "        x=x.upper()\n",
    "        if x=='SUNNY':\n",
    "            print(\"Wear a t-shirt and apply sunscreen\")\n",
    "            return\n",
    "        if x=='RAINY':\n",
    "            print(\"Bring an umbrella and wear boots\")\n",
    "            return\n",
    "        if x=='SNOWY':\n",
    "            print(\"Wear a warm coat and hat\")\n",
    "            return\n",
    "        if x!='SUNNY' and x!='RAINY' and x!='SNOWY':\n",
    "            print(\"SOrry, not sure what to suggest for \",x,\" weather...\")\n",
    "    raise NotImplementedError()"
   ]
  },
  {
   "cell_type": "code",
   "execution_count": 2,
   "metadata": {},
   "outputs": [
    {
     "name": "stdout",
     "output_type": "stream",
     "text": [
      "Enter the weather(sunny, rainy, snowy,etc.):Sunny\n",
      "Wear a t-shirt and apply sunscreen\n"
     ]
    }
   ],
   "source": [
    "Q5()"
   ]
  },
  {
   "cell_type": "code",
   "execution_count": null,
   "metadata": {
    "deletable": false,
    "editable": false,
    "nbgrader": {
     "cell_type": "code",
     "checksum": "dbd2dabd6ea7b4c362ab1b654ef0cd37",
     "grade": true,
     "grade_id": "cell-77c0d621ffa15f74",
     "locked": true,
     "points": 4,
     "schema_version": 3,
     "solution": false,
     "task": false
    }
   },
   "outputs": [],
   "source": []
  },
  {
   "cell_type": "code",
   "execution_count": null,
   "metadata": {
    "deletable": false,
    "editable": false,
    "nbgrader": {
     "cell_type": "code",
     "checksum": "0eeb6d0b4dd0ba308eecdf34f4353096",
     "grade": true,
     "grade_id": "cell-7723c1278cd2ed97",
     "locked": true,
     "points": 4,
     "schema_version": 3,
     "solution": false,
     "task": false
    }
   },
   "outputs": [],
   "source": []
  },
  {
   "cell_type": "markdown",
   "metadata": {
    "deletable": false,
    "editable": false,
    "nbgrader": {
     "cell_type": "markdown",
     "checksum": "4bdad0ee381f8274f20ed370b591b113",
     "grade": false,
     "grade_id": "cell-770bc1eb617bdad5",
     "locked": true,
     "schema_version": 3,
     "solution": false,
     "task": false
    }
   },
   "source": [
    "# 6."
   ]
  },
  {
   "cell_type": "code",
   "execution_count": 3,
   "metadata": {
    "deletable": false,
    "nbgrader": {
     "cell_type": "code",
     "checksum": "d98b8347b5c02f03f7177a292e73da91",
     "grade": false,
     "grade_id": "cell-b6adb8cddc912730",
     "locked": false,
     "schema_version": 3,
     "solution": true,
     "task": false
    }
   },
   "outputs": [],
   "source": [
    "def Q6():\n",
    "    from random import randint\n",
    "    # YOUR CODE HERE\n",
    "    CT=0\n",
    "    CF=0\n",
    "    for i in range(100):\n",
    "        matrix=[[randint(-1,3)for i in range(10)] for j in range(10)]\n",
    "        k=0\n",
    "        for j in range(10):\n",
    "            if matrix[j][j]==0:\n",
    "                k+=1\n",
    "                break\n",
    "        if k>0:\n",
    "            CT+=1\n",
    "            print(\"T\",end=\"\")\n",
    "        if k==0:\n",
    "            CF+=1\n",
    "            print(\"F\",end=\"\")\n",
    "    print(\"Among 100 trials, there are \",CT,\" True and \",CF,\"False.\")\n",
    "    \n",
    "    return            \n",
    "                \n",
    "    \n",
    "    raise NotImplementedError()"
   ]
  },
  {
   "cell_type": "code",
   "execution_count": 4,
   "metadata": {},
   "outputs": [
    {
     "name": "stdout",
     "output_type": "stream",
     "text": [
      "TTTTFTTTTTTTTTTTTTTTTTTTTTTTTTTTTTTTTTTTTTTTTTTTTTTTTTTTTTFTTTTTTTTTTFTFTTTTTTTTTTTTTTTTTTTTTTTTTTTT\n",
      "Among 100 trials, there are  96  True and  4 False.\n"
     ]
    }
   ],
   "source": [
    "Q6()"
   ]
  },
  {
   "cell_type": "code",
   "execution_count": null,
   "metadata": {
    "deletable": false,
    "editable": false,
    "nbgrader": {
     "cell_type": "code",
     "checksum": "e5ae3bc3fa4ab953f7a36b9307c48b2f",
     "grade": true,
     "grade_id": "cell-d4c2cee57c3020d8",
     "locked": true,
     "points": 8,
     "schema_version": 3,
     "solution": false,
     "task": false
    }
   },
   "outputs": [],
   "source": []
  },
  {
   "cell_type": "markdown",
   "metadata": {
    "deletable": false,
    "editable": false,
    "nbgrader": {
     "cell_type": "markdown",
     "checksum": "1aa2c5aec8bf595ae348f627c57c0ef6",
     "grade": false,
     "grade_id": "cell-7ecc0a6a34166707",
     "locked": true,
     "schema_version": 3,
     "solution": false,
     "task": false
    }
   },
   "source": [
    "# 7."
   ]
  },
  {
   "cell_type": "code",
   "execution_count": 5,
   "metadata": {
    "deletable": false,
    "nbgrader": {
     "cell_type": "code",
     "checksum": "bfe0f052f2a305f78f6f0032e71c6d8b",
     "grade": false,
     "grade_id": "cell-928b75b0295ad37a",
     "locked": false,
     "schema_version": 3,
     "solution": true,
     "task": false
    }
   },
   "outputs": [],
   "source": [
    "def Q7():\n",
    "    # YOUR CODE HERE\n",
    "    import math\n",
    "    nums=[2,3]\n",
    "    for i in range(4,1000):\n",
    "        k=int(math.sqrt(i))\n",
    "        h=2\n",
    "        for j in range(2,k+1):\n",
    "            if i%j==0:\n",
    "                break\n",
    "            h+=1\n",
    "        if h==k+1:\n",
    "            nums.append(i)\n",
    "    n=len(nums)\n",
    "    for m in range(2,501):\n",
    "        for s in range(n):\n",
    "            if 2*m-nums[s] in nums:\n",
    "                print(2*m,\"=\",nums[s],\"+\",2*m-nums[s])\n",
    "                break\n",
    "    \n",
    "    return        \n",
    "    raise NotImplementedError()"
   ]
  },
  {
   "cell_type": "code",
   "execution_count": 6,
   "metadata": {},
   "outputs": [
    {
     "name": "stdout",
     "output_type": "stream",
     "text": [
      "4 = 2 + 2\n",
      "6 = 3 + 3\n",
      "8 = 3 + 5\n",
      "10 = 3 + 7\n",
      "12 = 5 + 7\n",
      "14 = 3 + 11\n",
      "16 = 3 + 13\n",
      "18 = 5 + 13\n",
      "20 = 3 + 17\n",
      "22 = 3 + 19\n",
      "24 = 5 + 19\n",
      "26 = 3 + 23\n",
      "28 = 5 + 23\n",
      "30 = 7 + 23\n",
      "32 = 3 + 29\n",
      "34 = 3 + 31\n",
      "36 = 5 + 31\n",
      "38 = 7 + 31\n",
      "40 = 3 + 37\n",
      "42 = 5 + 37\n",
      "44 = 3 + 41\n",
      "46 = 3 + 43\n",
      "48 = 5 + 43\n",
      "50 = 3 + 47\n",
      "52 = 5 + 47\n",
      "54 = 7 + 47\n",
      "56 = 3 + 53\n",
      "58 = 5 + 53\n",
      "60 = 7 + 53\n",
      "62 = 3 + 59\n",
      "64 = 3 + 61\n",
      "66 = 5 + 61\n",
      "68 = 7 + 61\n",
      "70 = 3 + 67\n",
      "72 = 5 + 67\n",
      "74 = 3 + 71\n",
      "76 = 3 + 73\n",
      "78 = 5 + 73\n",
      "80 = 7 + 73\n",
      "82 = 3 + 79\n",
      "84 = 5 + 79\n",
      "86 = 3 + 83\n",
      "88 = 5 + 83\n",
      "90 = 7 + 83\n",
      "92 = 3 + 89\n",
      "94 = 5 + 89\n",
      "96 = 7 + 89\n",
      "98 = 19 + 79\n",
      "100 = 3 + 97\n",
      "102 = 5 + 97\n",
      "104 = 3 + 101\n",
      "106 = 3 + 103\n",
      "108 = 5 + 103\n",
      "110 = 3 + 107\n",
      "112 = 3 + 109\n",
      "114 = 5 + 109\n",
      "116 = 3 + 113\n",
      "118 = 5 + 113\n",
      "120 = 7 + 113\n",
      "122 = 13 + 109\n",
      "124 = 11 + 113\n",
      "126 = 13 + 113\n",
      "128 = 19 + 109\n",
      "130 = 3 + 127\n",
      "132 = 5 + 127\n",
      "134 = 3 + 131\n",
      "136 = 5 + 131\n",
      "138 = 7 + 131\n",
      "140 = 3 + 137\n",
      "142 = 3 + 139\n",
      "144 = 5 + 139\n",
      "146 = 7 + 139\n",
      "148 = 11 + 137\n",
      "150 = 11 + 139\n",
      "152 = 3 + 149\n",
      "154 = 3 + 151\n",
      "156 = 5 + 151\n",
      "158 = 7 + 151\n",
      "160 = 3 + 157\n",
      "162 = 5 + 157\n",
      "164 = 7 + 157\n",
      "166 = 3 + 163\n",
      "168 = 5 + 163\n",
      "170 = 3 + 167\n",
      "172 = 5 + 167\n",
      "174 = 7 + 167\n",
      "176 = 3 + 173\n",
      "178 = 5 + 173\n",
      "180 = 7 + 173\n",
      "182 = 3 + 179\n",
      "184 = 3 + 181\n",
      "186 = 5 + 181\n",
      "188 = 7 + 181\n",
      "190 = 11 + 179\n",
      "192 = 11 + 181\n",
      "194 = 3 + 191\n",
      "196 = 3 + 193\n",
      "198 = 5 + 193\n",
      "200 = 3 + 197\n",
      "202 = 3 + 199\n",
      "204 = 5 + 199\n",
      "206 = 7 + 199\n",
      "208 = 11 + 197\n",
      "210 = 11 + 199\n",
      "212 = 13 + 199\n",
      "214 = 3 + 211\n",
      "216 = 5 + 211\n",
      "218 = 7 + 211\n",
      "220 = 23 + 197\n",
      "222 = 11 + 211\n",
      "224 = 13 + 211\n",
      "226 = 3 + 223\n",
      "228 = 5 + 223\n",
      "230 = 3 + 227\n",
      "232 = 3 + 229\n",
      "234 = 5 + 229\n",
      "236 = 3 + 233\n",
      "238 = 5 + 233\n",
      "240 = 7 + 233\n",
      "242 = 3 + 239\n",
      "244 = 3 + 241\n",
      "246 = 5 + 241\n",
      "248 = 7 + 241\n",
      "250 = 11 + 239\n",
      "252 = 11 + 241\n",
      "254 = 3 + 251\n",
      "256 = 5 + 251\n",
      "258 = 7 + 251\n",
      "260 = 3 + 257\n",
      "262 = 5 + 257\n",
      "264 = 7 + 257\n",
      "266 = 3 + 263\n",
      "268 = 5 + 263\n",
      "270 = 7 + 263\n",
      "272 = 3 + 269\n",
      "274 = 3 + 271\n",
      "276 = 5 + 271\n",
      "278 = 7 + 271\n",
      "280 = 3 + 277\n",
      "282 = 5 + 277\n",
      "284 = 3 + 281\n",
      "286 = 3 + 283\n",
      "288 = 5 + 283\n",
      "290 = 7 + 283\n",
      "292 = 11 + 281\n",
      "294 = 11 + 283\n",
      "296 = 3 + 293\n",
      "298 = 5 + 293\n",
      "300 = 7 + 293\n",
      "302 = 19 + 283\n",
      "304 = 11 + 293\n",
      "306 = 13 + 293\n",
      "308 = 31 + 277\n",
      "310 = 3 + 307\n",
      "312 = 5 + 307\n",
      "314 = 3 + 311\n",
      "316 = 3 + 313\n",
      "318 = 5 + 313\n",
      "320 = 3 + 317\n",
      "322 = 5 + 317\n",
      "324 = 7 + 317\n",
      "326 = 13 + 313\n",
      "328 = 11 + 317\n",
      "330 = 13 + 317\n",
      "332 = 19 + 313\n",
      "334 = 3 + 331\n",
      "336 = 5 + 331\n",
      "338 = 7 + 331\n",
      "340 = 3 + 337\n",
      "342 = 5 + 337\n",
      "344 = 7 + 337\n",
      "346 = 29 + 317\n",
      "348 = 11 + 337\n",
      "350 = 3 + 347\n",
      "352 = 3 + 349\n",
      "354 = 5 + 349\n",
      "356 = 3 + 353\n",
      "358 = 5 + 353\n",
      "360 = 7 + 353\n",
      "362 = 3 + 359\n",
      "364 = 5 + 359\n",
      "366 = 7 + 359\n",
      "368 = 19 + 349\n",
      "370 = 3 + 367\n",
      "372 = 5 + 367\n",
      "374 = 7 + 367\n",
      "376 = 3 + 373\n",
      "378 = 5 + 373\n",
      "380 = 7 + 373\n",
      "382 = 3 + 379\n",
      "384 = 5 + 379\n",
      "386 = 3 + 383\n",
      "388 = 5 + 383\n",
      "390 = 7 + 383\n",
      "392 = 3 + 389\n",
      "394 = 5 + 389\n",
      "396 = 7 + 389\n",
      "398 = 19 + 379\n",
      "400 = 3 + 397\n",
      "402 = 5 + 397\n",
      "404 = 3 + 401\n",
      "406 = 5 + 401\n",
      "408 = 7 + 401\n",
      "410 = 13 + 397\n",
      "412 = 3 + 409\n",
      "414 = 5 + 409\n",
      "416 = 7 + 409\n",
      "418 = 17 + 401\n",
      "420 = 11 + 409\n",
      "422 = 3 + 419\n",
      "424 = 3 + 421\n",
      "426 = 5 + 421\n",
      "428 = 7 + 421\n",
      "430 = 11 + 419\n",
      "432 = 11 + 421\n",
      "434 = 3 + 431\n",
      "436 = 3 + 433\n",
      "438 = 5 + 433\n",
      "440 = 7 + 433\n",
      "442 = 3 + 439\n",
      "444 = 5 + 439\n",
      "446 = 3 + 443\n",
      "448 = 5 + 443\n",
      "450 = 7 + 443\n",
      "452 = 3 + 449\n",
      "454 = 5 + 449\n",
      "456 = 7 + 449\n",
      "458 = 19 + 439\n",
      "460 = 3 + 457\n",
      "462 = 5 + 457\n",
      "464 = 3 + 461\n",
      "466 = 3 + 463\n",
      "468 = 5 + 463\n",
      "470 = 3 + 467\n",
      "472 = 5 + 467\n",
      "474 = 7 + 467\n",
      "476 = 13 + 463\n",
      "478 = 11 + 467\n",
      "480 = 13 + 467\n",
      "482 = 3 + 479\n",
      "484 = 5 + 479\n",
      "486 = 7 + 479\n",
      "488 = 31 + 457\n",
      "490 = 3 + 487\n",
      "492 = 5 + 487\n",
      "494 = 3 + 491\n",
      "496 = 5 + 491\n",
      "498 = 7 + 491\n",
      "500 = 13 + 487\n",
      "502 = 3 + 499\n",
      "504 = 5 + 499\n",
      "506 = 3 + 503\n",
      "508 = 5 + 503\n",
      "510 = 7 + 503\n",
      "512 = 3 + 509\n",
      "514 = 5 + 509\n",
      "516 = 7 + 509\n",
      "518 = 19 + 499\n",
      "520 = 11 + 509\n",
      "522 = 13 + 509\n",
      "524 = 3 + 521\n",
      "526 = 3 + 523\n",
      "528 = 5 + 523\n",
      "530 = 7 + 523\n",
      "532 = 11 + 521\n",
      "534 = 11 + 523\n",
      "536 = 13 + 523\n",
      "538 = 17 + 521\n",
      "540 = 17 + 523\n",
      "542 = 19 + 523\n",
      "544 = 3 + 541\n",
      "546 = 5 + 541\n",
      "548 = 7 + 541\n",
      "550 = 3 + 547\n",
      "552 = 5 + 547\n",
      "554 = 7 + 547\n",
      "556 = 47 + 509\n",
      "558 = 11 + 547\n",
      "560 = 3 + 557\n",
      "562 = 5 + 557\n",
      "564 = 7 + 557\n",
      "566 = 3 + 563\n",
      "568 = 5 + 563\n",
      "570 = 7 + 563\n",
      "572 = 3 + 569\n",
      "574 = 3 + 571\n",
      "576 = 5 + 571\n",
      "578 = 7 + 571\n",
      "580 = 3 + 577\n",
      "582 = 5 + 577\n",
      "584 = 7 + 577\n",
      "586 = 17 + 569\n",
      "588 = 11 + 577\n",
      "590 = 3 + 587\n",
      "592 = 5 + 587\n",
      "594 = 7 + 587\n",
      "596 = 3 + 593\n",
      "598 = 5 + 593\n",
      "600 = 7 + 593\n",
      "602 = 3 + 599\n",
      "604 = 3 + 601\n",
      "606 = 5 + 601\n",
      "608 = 7 + 601\n",
      "610 = 3 + 607\n",
      "612 = 5 + 607\n",
      "614 = 7 + 607\n",
      "616 = 3 + 613\n",
      "618 = 5 + 613\n",
      "620 = 3 + 617\n",
      "622 = 3 + 619\n",
      "624 = 5 + 619\n",
      "626 = 7 + 619\n",
      "628 = 11 + 617\n",
      "630 = 11 + 619\n",
      "632 = 13 + 619\n",
      "634 = 3 + 631\n",
      "636 = 5 + 631\n",
      "638 = 7 + 631\n",
      "640 = 23 + 617\n",
      "642 = 11 + 631\n",
      "644 = 3 + 641\n",
      "646 = 3 + 643\n",
      "648 = 5 + 643\n",
      "650 = 3 + 647\n",
      "652 = 5 + 647\n",
      "654 = 7 + 647\n",
      "656 = 3 + 653\n",
      "658 = 5 + 653\n",
      "660 = 7 + 653\n",
      "662 = 3 + 659\n",
      "664 = 3 + 661\n",
      "666 = 5 + 661\n",
      "668 = 7 + 661\n",
      "670 = 11 + 659\n",
      "672 = 11 + 661\n",
      "674 = 13 + 661\n",
      "676 = 3 + 673\n",
      "678 = 5 + 673\n",
      "680 = 3 + 677\n",
      "682 = 5 + 677\n",
      "684 = 7 + 677\n",
      "686 = 3 + 683\n",
      "688 = 5 + 683\n",
      "690 = 7 + 683\n",
      "692 = 19 + 673\n",
      "694 = 3 + 691\n",
      "696 = 5 + 691\n",
      "698 = 7 + 691\n",
      "700 = 17 + 683\n",
      "702 = 11 + 691\n",
      "704 = 3 + 701\n",
      "706 = 5 + 701\n",
      "708 = 7 + 701\n",
      "710 = 19 + 691\n",
      "712 = 3 + 709\n",
      "714 = 5 + 709\n",
      "716 = 7 + 709\n",
      "718 = 17 + 701\n",
      "720 = 11 + 709\n",
      "722 = 3 + 719\n",
      "724 = 5 + 719\n",
      "726 = 7 + 719\n",
      "728 = 19 + 709\n",
      "730 = 3 + 727\n",
      "732 = 5 + 727\n",
      "734 = 7 + 727\n",
      "736 = 3 + 733\n",
      "738 = 5 + 733\n",
      "740 = 7 + 733\n",
      "742 = 3 + 739\n",
      "744 = 5 + 739\n",
      "746 = 3 + 743\n",
      "748 = 5 + 743\n",
      "750 = 7 + 743\n",
      "752 = 13 + 739\n",
      "754 = 3 + 751\n",
      "756 = 5 + 751\n",
      "758 = 7 + 751\n",
      "760 = 3 + 757\n",
      "762 = 5 + 757\n",
      "764 = 3 + 761\n",
      "766 = 5 + 761\n",
      "768 = 7 + 761\n",
      "770 = 13 + 757\n",
      "772 = 3 + 769\n",
      "774 = 5 + 769\n",
      "776 = 3 + 773\n",
      "778 = 5 + 773\n",
      "780 = 7 + 773\n",
      "782 = 13 + 769\n",
      "784 = 11 + 773\n",
      "786 = 13 + 773\n",
      "788 = 19 + 769\n",
      "790 = 3 + 787\n",
      "792 = 5 + 787\n",
      "794 = 7 + 787\n",
      "796 = 23 + 773\n",
      "798 = 11 + 787\n",
      "800 = 3 + 797\n",
      "802 = 5 + 797\n",
      "804 = 7 + 797\n",
      "806 = 19 + 787\n",
      "808 = 11 + 797\n",
      "810 = 13 + 797\n",
      "812 = 3 + 809\n",
      "814 = 3 + 811\n",
      "816 = 5 + 811\n",
      "818 = 7 + 811\n",
      "820 = 11 + 809\n",
      "822 = 11 + 811\n",
      "824 = 3 + 821\n",
      "826 = 3 + 823\n",
      "828 = 5 + 823\n",
      "830 = 3 + 827\n",
      "832 = 3 + 829\n",
      "834 = 5 + 829\n",
      "836 = 7 + 829\n",
      "838 = 11 + 827\n",
      "840 = 11 + 829\n",
      "842 = 3 + 839\n",
      "844 = 5 + 839\n",
      "846 = 7 + 839\n",
      "848 = 19 + 829\n",
      "850 = 11 + 839\n",
      "852 = 13 + 839\n",
      "854 = 31 + 823\n",
      "856 = 3 + 853\n",
      "858 = 5 + 853\n",
      "860 = 3 + 857\n",
      "862 = 3 + 859\n",
      "864 = 5 + 859\n",
      "866 = 3 + 863\n",
      "868 = 5 + 863\n",
      "870 = 7 + 863\n",
      "872 = 13 + 859\n",
      "874 = 11 + 863\n",
      "876 = 13 + 863\n",
      "878 = 19 + 859\n",
      "880 = 3 + 877\n",
      "882 = 5 + 877\n",
      "884 = 3 + 881\n",
      "886 = 3 + 883\n",
      "888 = 5 + 883\n",
      "890 = 3 + 887\n",
      "892 = 5 + 887\n",
      "894 = 7 + 887\n",
      "896 = 13 + 883\n",
      "898 = 11 + 887\n",
      "900 = 13 + 887\n",
      "902 = 19 + 883\n",
      "904 = 17 + 887\n",
      "906 = 19 + 887\n",
      "908 = 31 + 877\n",
      "910 = 3 + 907\n",
      "912 = 5 + 907\n",
      "914 = 3 + 911\n",
      "916 = 5 + 911\n",
      "918 = 7 + 911\n",
      "920 = 13 + 907\n",
      "922 = 3 + 919\n",
      "924 = 5 + 919\n",
      "926 = 7 + 919\n",
      "928 = 17 + 911\n",
      "930 = 11 + 919\n",
      "932 = 3 + 929\n",
      "934 = 5 + 929\n",
      "936 = 7 + 929\n",
      "938 = 19 + 919\n",
      "940 = 3 + 937\n",
      "942 = 5 + 937\n",
      "944 = 3 + 941\n",
      "946 = 5 + 941\n",
      "948 = 7 + 941\n",
      "950 = 3 + 947\n",
      "952 = 5 + 947\n",
      "954 = 7 + 947\n",
      "956 = 3 + 953\n",
      "958 = 5 + 953\n",
      "960 = 7 + 953\n",
      "962 = 43 + 919\n",
      "964 = 11 + 953\n",
      "966 = 13 + 953\n",
      "968 = 31 + 937\n",
      "970 = 3 + 967\n",
      "972 = 5 + 967\n",
      "974 = 3 + 971\n",
      "976 = 5 + 971\n",
      "978 = 7 + 971\n",
      "980 = 3 + 977\n",
      "982 = 5 + 977\n",
      "984 = 7 + 977\n",
      "986 = 3 + 983\n",
      "988 = 5 + 983\n",
      "990 = 7 + 983\n",
      "992 = 73 + 919\n",
      "994 = 3 + 991\n",
      "996 = 5 + 991\n",
      "998 = 7 + 991\n",
      "1000 = 3 + 997\n"
     ]
    }
   ],
   "source": [
    "Q7()"
   ]
  },
  {
   "cell_type": "code",
   "execution_count": null,
   "metadata": {
    "deletable": false,
    "editable": false,
    "nbgrader": {
     "cell_type": "code",
     "checksum": "7107d972c7dc546b1a86a7c00cc88bb8",
     "grade": true,
     "grade_id": "cell-b288faf2b4eac1fb",
     "locked": true,
     "points": 10,
     "schema_version": 3,
     "solution": false,
     "task": false
    }
   },
   "outputs": [],
   "source": [
    "#"
   ]
  },
  {
   "cell_type": "markdown",
   "metadata": {
    "deletable": false,
    "editable": false,
    "nbgrader": {
     "cell_type": "markdown",
     "checksum": "15a5f637413317e26c615942c2ee29d1",
     "grade": false,
     "grade_id": "cell-ef35232281b8581b",
     "locked": true,
     "schema_version": 3,
     "solution": false,
     "task": false
    }
   },
   "source": [
    "# 8."
   ]
  },
  {
   "cell_type": "code",
   "execution_count": 7,
   "metadata": {
    "deletable": false,
    "nbgrader": {
     "cell_type": "code",
     "checksum": "d212c95e64e2b9f185835ffa95b26cbf",
     "grade": false,
     "grade_id": "cell-39c21130c38e18eb",
     "locked": false,
     "schema_version": 3,
     "solution": true,
     "task": false
    }
   },
   "outputs": [
    {
     "name": "stdout",
     "output_type": "stream",
     "text": [
      "Enter a title: Welcome to data-driven modeling class. It is really a great family\n",
      "Capitalized: Welcome to Data-Driven Modeling Class. It Is Really a Great Family\n"
     ]
    }
   ],
   "source": [
    "def Q8(title):\n",
    "    # YOUR CODE HERE\n",
    "    ch=[chr(i) for i in range(65,91)]+[chr(i) for i in range(97,123)]\n",
    "    NOT=['a','an','the','at','by','for','in','of','on','to','up','and','as','but','or','nor']\n",
    "    n=len(title)\n",
    "    dc=[]\n",
    "    b=\"\"\n",
    "    fh=[]\n",
    "    a=\"\" \n",
    "    s=0\n",
    "    for i in range(n):\n",
    "        if not title[i] in ch:\n",
    "            a=a+title[i]\n",
    "            continue\n",
    "        if title[i] in ch:\n",
    "            if a!=\"\":\n",
    "                fh.append(a)\n",
    "                a=\"\"\n",
    "        if i==0 or not title[i-1] in ch:\n",
    "            for j in range(i,n):\n",
    "                if title[j] in ch:\n",
    "                    b=b+title[j]\n",
    "                    if j==n-1:\n",
    "                        dc.append(b)\n",
    "                        b=\"\"\n",
    "                    continue\n",
    "                if not title[j] in ch:\n",
    "                    dc.append(b)\n",
    "                    b=\"\"\n",
    "                    break\n",
    "    dcl=len(dc)\n",
    "    fhl=len(fh)\n",
    "    for i in range(dcl):\n",
    "        if  not dc[i] in NOT:\n",
    "            dc[i]=dc[i][0].upper()+dc[i][1:]\n",
    "    str1=\"\"\n",
    "    if fhl>0:\n",
    "        for i in range(fhl):\n",
    "            str1=str1+dc[i]+fh[i]\n",
    "        str1=str1+dc[fhl]\n",
    "    if fhl==0:\n",
    "        str1=str1+dc[0]\n",
    "    return str1        \n",
    "    raise NotImplementedError()\n",
    "print(f'Capitalized: {Q8(input(\"Enter a title: \"))}')"
   ]
  },
  {
   "cell_type": "code",
   "execution_count": 8,
   "metadata": {
    "deletable": false,
    "editable": false,
    "nbgrader": {
     "cell_type": "code",
     "checksum": "c89711d087c393899f2db3f6e0bc814d",
     "grade": true,
     "grade_id": "cell-0f4a0cbb0b5df331",
     "locked": true,
     "points": 4,
     "schema_version": 3,
     "solution": false,
     "task": false
    }
   },
   "outputs": [],
   "source": [
    "assert Q8('hi') == 'Hi'"
   ]
  },
  {
   "cell_type": "code",
   "execution_count": null,
   "metadata": {
    "deletable": false,
    "editable": false,
    "nbgrader": {
     "cell_type": "code",
     "checksum": "0d5abdd88a60ffa88780ac6518b5d946",
     "grade": true,
     "grade_id": "cell-56086f41becc18ad",
     "locked": true,
     "points": 3,
     "schema_version": 3,
     "solution": false,
     "task": false
    }
   },
   "outputs": [],
   "source": []
  },
  {
   "cell_type": "code",
   "execution_count": null,
   "metadata": {
    "deletable": false,
    "editable": false,
    "nbgrader": {
     "cell_type": "code",
     "checksum": "40f22e6c0b53a75440d40c99ecc5b11c",
     "grade": true,
     "grade_id": "cell-41b3501d029296dd",
     "locked": true,
     "points": 10,
     "schema_version": 3,
     "solution": false,
     "task": false
    }
   },
   "outputs": [],
   "source": []
  },
  {
   "cell_type": "markdown",
   "metadata": {
    "deletable": false,
    "editable": false,
    "nbgrader": {
     "cell_type": "markdown",
     "checksum": "ca2912f5450f9f1b8b7e7b3b425eb0b1",
     "grade": false,
     "grade_id": "cell-3975f2d700a47278",
     "locked": true,
     "schema_version": 3,
     "solution": false,
     "task": false
    }
   },
   "source": [
    "# 9."
   ]
  },
  {
   "cell_type": "code",
   "execution_count": 9,
   "metadata": {
    "deletable": false,
    "nbgrader": {
     "cell_type": "code",
     "checksum": "b1f5ca492affca3e7bfee97ff6a0a03d",
     "grade": false,
     "grade_id": "cell-30dd91b3d407935e",
     "locked": false,
     "schema_version": 3,
     "solution": true,
     "task": false
    }
   },
   "outputs": [],
   "source": [
    "import math, pandas\n",
    "def Q9():\n",
    "    # YOUR CODE HERE\n",
    "    frame=pandas.DataFrame(columns=[\"deg\",\"sin\",\"cos\",\"tan\"])\n",
    "    p=math.pi\n",
    "    for i in range(37):\n",
    "        a=i*10\n",
    "        a=str(a)\n",
    "        b=round(math.sin(i/18*p),3)\n",
    "        c=round(math.cos(i/18*p),3)\n",
    "        d=math.tan(i/18*p)\n",
    "        if abs(d)>1000000000:\n",
    "            d='undef'\n",
    "        elif i%18==0:\n",
    "            d='0.000'\n",
    "        else:\n",
    "            d=round(d,3)\n",
    "        f={\"deg\":a,\"sin\":b,\"cos\":c,\"tan\":d}\n",
    "        frame=frame.append(f,ignore_index=True)\n",
    "    frame=frame.to_string(index=False)\n",
    "    print(frame)\n",
    "    return\n",
    "    raise NotImplementedError()"
   ]
  },
  {
   "cell_type": "code",
   "execution_count": 10,
   "metadata": {},
   "outputs": [
    {
     "name": "stdout",
     "output_type": "stream",
     "text": [
      "deg    sin    cos    tan\n",
      "  0  0.000  1.000  0.000\n",
      " 10  0.174  0.985  0.176\n",
      " 20  0.342  0.940  0.364\n",
      " 30  0.500  0.866  0.577\n",
      " 40  0.643  0.766  0.839\n",
      " 50  0.766  0.643  1.192\n",
      " 60  0.866  0.500  1.732\n",
      " 70  0.940  0.342  2.747\n",
      " 80  0.985  0.174  5.671\n",
      " 90  1.000  0.000  undef\n",
      "100  0.985 -0.174 -5.671\n",
      "110  0.940 -0.342 -2.747\n",
      "120  0.866 -0.500 -1.732\n",
      "130  0.766 -0.643 -1.192\n",
      "140  0.643 -0.766 -0.839\n",
      "150  0.500 -0.866 -0.577\n",
      "160  0.342 -0.940 -0.364\n",
      "170  0.174 -0.985 -0.176\n",
      "180  0.000 -1.000  0.000\n",
      "190 -0.174 -0.985  0.176\n",
      "200 -0.342 -0.940  0.364\n",
      "210 -0.500 -0.866  0.577\n",
      "220 -0.643 -0.766  0.839\n",
      "230 -0.766 -0.643  1.192\n",
      "240 -0.866 -0.500  1.732\n",
      "250 -0.940 -0.342  2.747\n",
      "260 -0.985 -0.174  5.671\n",
      "270 -1.000 -0.000  undef\n",
      "280 -0.985  0.174 -5.671\n",
      "290 -0.940  0.342 -2.747\n",
      "300 -0.866  0.500 -1.732\n",
      "310 -0.766  0.643 -1.192\n",
      "320 -0.643  0.766 -0.839\n",
      "330 -0.500  0.866 -0.577\n",
      "340 -0.342  0.940 -0.364\n",
      "350 -0.174  0.985 -0.176\n",
      "360 -0.000  1.000  0.000\n"
     ]
    }
   ],
   "source": [
    "Q9()"
   ]
  },
  {
   "cell_type": "code",
   "execution_count": null,
   "metadata": {
    "deletable": false,
    "editable": false,
    "nbgrader": {
     "cell_type": "code",
     "checksum": "27100ab9a3c6eca5ea569bb55fac4df8",
     "grade": true,
     "grade_id": "cell-028c2007345ea430",
     "locked": true,
     "points": 3,
     "schema_version": 3,
     "solution": false,
     "task": false
    }
   },
   "outputs": [],
   "source": []
  },
  {
   "cell_type": "code",
   "execution_count": null,
   "metadata": {
    "deletable": false,
    "editable": false,
    "nbgrader": {
     "cell_type": "code",
     "checksum": "c842011ac72a58352aa317006774c0f8",
     "grade": true,
     "grade_id": "cell-a5f4630089bf96d4",
     "locked": true,
     "points": 3,
     "schema_version": 3,
     "solution": false,
     "task": false
    }
   },
   "outputs": [],
   "source": [
    "#"
   ]
  },
  {
   "cell_type": "code",
   "execution_count": null,
   "metadata": {
    "deletable": false,
    "editable": false,
    "nbgrader": {
     "cell_type": "code",
     "checksum": "f4ba88838d4b5b67d94f467f1f896a76",
     "grade": true,
     "grade_id": "cell-1480afa2e8dba94d",
     "locked": true,
     "points": 3,
     "schema_version": 3,
     "solution": false,
     "task": false
    }
   },
   "outputs": [],
   "source": [
    "#"
   ]
  },
  {
   "cell_type": "markdown",
   "metadata": {},
   "source": [
    "# 10."
   ]
  },
  {
   "cell_type": "code",
   "execution_count": 11,
   "metadata": {
    "deletable": false,
    "nbgrader": {
     "cell_type": "code",
     "checksum": "f77dac9ca2723d7d2bab8761a31e5669",
     "grade": false,
     "grade_id": "cell-4945423fc6345dff",
     "locked": false,
     "schema_version": 3,
     "solution": true,
     "task": false
    }
   },
   "outputs": [],
   "source": [
    "def Q10():\n",
    "    # YOUR CODE HERE\n",
    "    amount=float(input(\"Enter a principal amount:\"))\n",
    "    rate=float(input(\"Enter an annual interest rate(%):\"))\n",
    "    years=int(input(\"Enter the number of years:\"))\n",
    "    for i in range(years):\n",
    "        a=amount\n",
    "        amount=a*((rate+100)/100)\n",
    "        profit=round(amount-a,2)\n",
    "        print(\"Year %d profit: %.2f\"%(i+1,profit))\n",
    "    return\n",
    "    raise NotImplementedError()"
   ]
  },
  {
   "cell_type": "code",
   "execution_count": 12,
   "metadata": {},
   "outputs": [
    {
     "name": "stdout",
     "output_type": "stream",
     "text": [
      "Enter a principal amount:100\n",
      "Enter an annual interest rate(%):10\n",
      "Enter the number of years:5\n",
      "Year 1 profit: 10.00\n",
      "Year 2 profit: 11.00\n",
      "Year 3 profit: 12.10\n",
      "Year 4 profit: 13.31\n",
      "Year 5 profit: 14.64\n"
     ]
    }
   ],
   "source": [
    "Q10()"
   ]
  },
  {
   "cell_type": "code",
   "execution_count": null,
   "metadata": {
    "deletable": false,
    "editable": false,
    "nbgrader": {
     "cell_type": "code",
     "checksum": "6f764b94b75809fc81ee1ffc1784a3ea",
     "grade": true,
     "grade_id": "cell-5f6d766e856b85c1",
     "locked": true,
     "points": 4,
     "schema_version": 3,
     "solution": false,
     "task": false
    }
   },
   "outputs": [],
   "source": []
  },
  {
   "cell_type": "code",
   "execution_count": null,
   "metadata": {
    "deletable": false,
    "editable": false,
    "nbgrader": {
     "cell_type": "code",
     "checksum": "9ff719aab41918e85f902d7be82070a9",
     "grade": true,
     "grade_id": "cell-b22bbca9b3c13750",
     "locked": true,
     "points": 4,
     "schema_version": 3,
     "solution": false,
     "task": false
    }
   },
   "outputs": [],
   "source": []
  },
  {
   "cell_type": "markdown",
   "metadata": {
    "deletable": false,
    "editable": false,
    "nbgrader": {
     "cell_type": "markdown",
     "checksum": "088e6848cf1cc99bee06f51ab4601cd9",
     "grade": false,
     "grade_id": "cell-d6ce76889c352b19",
     "locked": true,
     "schema_version": 3,
     "solution": false,
     "task": false
    }
   },
   "source": [
    "# 11."
   ]
  },
  {
   "cell_type": "code",
   "execution_count": 13,
   "metadata": {
    "deletable": false,
    "nbgrader": {
     "cell_type": "code",
     "checksum": "efa426f7f1b25df0610a8b0ecabaeb5e",
     "grade": false,
     "grade_id": "cell-8bd88b5236bf7b1b",
     "locked": false,
     "schema_version": 3,
     "solution": true,
     "task": false
    }
   },
   "outputs": [],
   "source": [
    "def Q11():\n",
    "    # YOUR CODE HERE\n",
    "    t=0\n",
    "    while True:\n",
    "        nnu=0\n",
    "        nu=0\n",
    "        l=0\n",
    "        string=input(\"Please enter a string:\")\n",
    "        n=len(string)\n",
    "        for i in range(n):\n",
    "            if string[i] in ['0','1','2','3','4','5','6','7','8','9']:\n",
    "                nu+=1\n",
    "            else:\n",
    "                if not string[i].isalpha():\n",
    "                    l+=1\n",
    "                nnu+=1\n",
    "        if string=='':\n",
    "            print(\"Your input is an empty string\")\n",
    "        else:\n",
    "            t+=1\n",
    "        if nu==nnu and l>0:\n",
    "            print(\"Yes, it has an equal count of Numeric and Non-numeric characters, there are only\",nnu-l,\"letters\")\n",
    "        if nu==nnu and l==0 and nu!=0:\n",
    "            print(\"Yes, it has an equal count of Numeric and Non-numeric characters\")\n",
    "        if nu!=nnu:\n",
    "            print(\"No, it has not an equal count of Numeric and Non-numeric characters\")\n",
    "        if t>3:\n",
    "            f=input(\"You have entered more than 3 times, please enter again next time, press 'c' to continue or 'q' to quit:\")\n",
    "            if f.upper()=='C':\n",
    "                continue\n",
    "            elif f.upper()=='Q':\n",
    "                print(\"See you next time\")\n",
    "                return\n",
    "            else:\n",
    "                print(\"Your instruction is wrong, see you next time\")\n",
    "                return\n",
    "    raise NotImplementedError()"
   ]
  },
  {
   "cell_type": "code",
   "execution_count": 2,
   "metadata": {},
   "outputs": [
    {
     "name": "stdout",
     "output_type": "stream",
     "text": [
      "Please enter a string:\n",
      "Your input is an empty string\n",
      "Please enter a string:\n",
      "Your input is an empty string\n",
      "Please enter a string:\n",
      "Your input is an empty string\n",
      "Please enter a string:\n",
      "Your input is an empty string\n",
      "Please enter a string:\n",
      "Your input is an empty string\n",
      "Please enter a string:\n",
      "Your input is an empty string\n",
      "Please enter a string:\n",
      "Your input is an empty string\n",
      "Please enter a string:\n",
      "Your input is an empty string\n",
      "Please enter a string:Q\n",
      "No, it has not an equal count of Numeric and Non-numeric characters\n",
      "Please enter a string:Q1\n",
      "Yes, it has an equal count of Numeric and Non-numeric characters\n",
      "Please enter a string:Q ,1\n",
      "No, it has not an equal count of Numeric and Non-numeric characters\n",
      "Please enter a string:哈哈\n",
      "No, it has not an equal count of Numeric and Non-numeric characters\n",
      "You have entered more than 3 times, please enter again next time, press 'c' to continue or 'q' to quit:C\n",
      "Please enter a string:“He我以为吕布已经天下无敌，没想到此人竟然如此勇猛，这是谁的部将？hh\n",
      "No, it has not an equal count of Numeric and Non-numeric characters\n",
      "You have entered more than 3 times, please enter again next time, press 'c' to continue or 'q' to quit:q\n",
      "See you next time\n"
     ]
    }
   ],
   "source": [
    "Q11()"
   ]
  },
  {
   "cell_type": "code",
   "execution_count": null,
   "metadata": {
    "deletable": false,
    "editable": false,
    "nbgrader": {
     "cell_type": "code",
     "checksum": "83420f830580dd9a7a450d0f3fd6deed",
     "grade": true,
     "grade_id": "cell-77eb254b3e6549ee",
     "locked": true,
     "points": 4,
     "schema_version": 3,
     "solution": false,
     "task": false
    }
   },
   "outputs": [],
   "source": []
  },
  {
   "cell_type": "code",
   "execution_count": null,
   "metadata": {
    "deletable": false,
    "editable": false,
    "nbgrader": {
     "cell_type": "code",
     "checksum": "cf6f1b26c4759e5ac2272f9f4e8c5e2f",
     "grade": true,
     "grade_id": "cell-62883fc7476c669b",
     "locked": true,
     "points": 4,
     "schema_version": 3,
     "solution": false,
     "task": false
    }
   },
   "outputs": [],
   "source": []
  },
  {
   "cell_type": "markdown",
   "metadata": {
    "deletable": false,
    "editable": false,
    "nbgrader": {
     "cell_type": "markdown",
     "checksum": "9ff1dd3b85a1109f337498249efa2338",
     "grade": false,
     "grade_id": "cell-f6bfb0b3d62c8392",
     "locked": true,
     "schema_version": 3,
     "solution": false,
     "task": false
    }
   },
   "source": [
    "# 12."
   ]
  },
  {
   "cell_type": "code",
   "execution_count": 14,
   "metadata": {
    "deletable": false,
    "nbgrader": {
     "cell_type": "code",
     "checksum": "cd68395c5026fa93a4e789c4ad8e6c4f",
     "grade": false,
     "grade_id": "cell-55ff778b67c81a57",
     "locked": false,
     "schema_version": 3,
     "solution": true,
     "task": false
    }
   },
   "outputs": [],
   "source": [
    "def Q12():\n",
    "    \n",
    "    # YOUR CODE HERE\n",
    "    import math\n",
    "    x=input(\"Enter a quadratic function in ax^2+bx+c:\")\n",
    "    l=len(x)\n",
    "    a=''\n",
    "    b=''\n",
    "    c=''\n",
    "    for i in range(l):\n",
    "        if x[i]=='x'or x[i]=='X':\n",
    "            k=i\n",
    "            break\n",
    "        a=a+x[i]\n",
    "    if a=='':\n",
    "        a=1\n",
    "    elif a=='-':\n",
    "        a=-1\n",
    "    else:\n",
    "        a=eval(a)\n",
    "    k=k+3\n",
    "    for i in range(k,l):\n",
    "        if x[i]=='x'or x[i]=='X':\n",
    "            j=i\n",
    "            break\n",
    "        b=b+x[i]\n",
    "    if b=='-':\n",
    "        b=-1\n",
    "    elif b=='+':\n",
    "        b=1\n",
    "    else:\n",
    "        b=eval(b)\n",
    "    j=j+1\n",
    "    for i in range(j,l):\n",
    "        c=c+x[i]\n",
    "    c=eval(c)\n",
    "    delt=b**2-4*a*c\n",
    "    if delt==0:\n",
    "        r=round(-b/2/a,2)\n",
    "        print(\"The root is\",r)\n",
    "        return\n",
    "    if delt>0:\n",
    "        r1=round((-b+math.sqrt(delt))/(2*a),2)\n",
    "        r2=round((-b-math.sqrt(delt))/(2*a),2)\n",
    "        print(\"The roots are\",r1,\"and\",r2)\n",
    "        return\n",
    "    if delt<0:\n",
    "        real=round(-b/(2*a),2)\n",
    "        r1v=round(math.sqrt(-delt)/(2*a),2)\n",
    "        r2v=-r1v\n",
    "        if r1v>0:\n",
    "            r1v='+'+str(r1v)+'i'\n",
    "            r2v=str(r2v)+'i'\n",
    "        else:\n",
    "            r1v=str(r1v)+'i'\n",
    "            r2v='+'+str(r2v)+'i'\n",
    "        r1=str(real)+r1v\n",
    "        r2=str(real)+r2v\n",
    "        print(\"The roots are\",r1,\"and\",r2)\n",
    "        return\n",
    "    raise NotImplementedError()"
   ]
  },
  {
   "cell_type": "code",
   "execution_count": null,
   "metadata": {
    "deletable": false,
    "editable": false,
    "nbgrader": {
     "cell_type": "code",
     "checksum": "b99aaef4b7a9dc9e4acd4a5e718bdcfc",
     "grade": true,
     "grade_id": "cell-fde7e2ebe96e0a4b",
     "locked": true,
     "points": 0,
     "schema_version": 3,
     "solution": false,
     "task": false
    }
   },
   "outputs": [],
   "source": []
  },
  {
   "cell_type": "code",
   "execution_count": 15,
   "metadata": {
    "scrolled": true
   },
   "outputs": [
    {
     "name": "stdout",
     "output_type": "stream",
     "text": [
      "Enter a quadratic function in ax^2+bx+c:3x^2+4x+9\n",
      "The roots are -0.67+1.6i and -0.67-1.6i\n"
     ]
    }
   ],
   "source": [
    "Q12()"
   ]
  },
  {
   "cell_type": "markdown",
   "metadata": {
    "deletable": false,
    "editable": false,
    "nbgrader": {
     "cell_type": "markdown",
     "checksum": "91f1354eb2f61a49391548041fcd29a2",
     "grade": false,
     "grade_id": "cell-e90664c285b3fce2",
     "locked": true,
     "schema_version": 3,
     "solution": false,
     "task": false
    }
   },
   "source": [
    "# 13."
   ]
  },
  {
   "cell_type": "code",
   "execution_count": 16,
   "metadata": {
    "deletable": false,
    "nbgrader": {
     "cell_type": "code",
     "checksum": "fec3962af22d7ef532f774d04616b71b",
     "grade": false,
     "grade_id": "cell-a62dd681381d5eaa",
     "locked": false,
     "schema_version": 3,
     "solution": true,
     "task": false
    }
   },
   "outputs": [],
   "source": [
    "def Q13():\n",
    "     \n",
    "    # YOUR CODE HERE\n",
    "    x=int(input(\"Please enter the number of layers:\"))\n",
    "    for i in range(x):\n",
    "        for j in range(2*x-1):\n",
    "            if j==x-i-1 or j==x-1+i:\n",
    "                print(\"#\",end='')\n",
    "                continue\n",
    "            print(\" \",end='')\n",
    "        print(\"\")\n",
    "    for i in range(2*x-1):\n",
    "        print(\"#\",end='')\n",
    "    return\n",
    "        \n",
    "    raise NotImplementedError()"
   ]
  },
  {
   "cell_type": "code",
   "execution_count": 17,
   "metadata": {},
   "outputs": [
    {
     "name": "stdout",
     "output_type": "stream",
     "text": [
      "Please enter the number of layers:10\n",
      "         #         \n",
      "        # #        \n",
      "       #   #       \n",
      "      #     #      \n",
      "     #       #     \n",
      "    #         #    \n",
      "   #           #   \n",
      "  #             #  \n",
      " #               # \n",
      "#                 #\n",
      "###################"
     ]
    }
   ],
   "source": [
    "Q13()"
   ]
  },
  {
   "cell_type": "code",
   "execution_count": null,
   "metadata": {
    "deletable": false,
    "editable": false,
    "nbgrader": {
     "cell_type": "code",
     "checksum": "6c4e5df4f10cf3a1b85118a587d41d04",
     "grade": true,
     "grade_id": "cell-26e496b93a127cfb",
     "locked": true,
     "points": 0,
     "schema_version": 3,
     "solution": false,
     "task": false
    }
   },
   "outputs": [],
   "source": []
  },
  {
   "cell_type": "code",
   "execution_count": null,
   "metadata": {},
   "outputs": [],
   "source": []
  }
 ],
 "metadata": {
  "kernelspec": {
   "display_name": "Python 3",
   "language": "python",
   "name": "python3"
  },
  "language_info": {
   "codemirror_mode": {
    "name": "ipython",
    "version": 3
   },
   "file_extension": ".py",
   "mimetype": "text/x-python",
   "name": "python",
   "nbconvert_exporter": "python",
   "pygments_lexer": "ipython3",
   "version": "3.8.8"
  }
 },
 "nbformat": 4,
 "nbformat_minor": 2
}
